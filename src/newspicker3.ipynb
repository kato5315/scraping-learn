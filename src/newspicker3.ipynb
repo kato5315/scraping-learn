{
 "cells": [
  {
   "cell_type": "code",
   "execution_count": 1,
   "id": "b6784ecf-2242-4b41-ad32-e0995abacdec",
   "metadata": {},
   "outputs": [],
   "source": [
    "from newspaper import Article"
   ]
  },
  {
   "cell_type": "code",
   "execution_count": 2,
   "id": "8c4c6f31-692b-48bc-bc85-2f35c903d6eb",
   "metadata": {},
   "outputs": [],
   "source": [
    "URL = \"https://www.reuters.com/world/us/biden-plans-new-steps-combat-us-gun-violence-violent-crime-climbs-2021-06-23/\""
   ]
  },
  {
   "cell_type": "code",
   "execution_count": 3,
   "id": "80048bdb-d7cd-4adf-8888-740018909b1e",
   "metadata": {},
   "outputs": [],
   "source": [
    "article = Article(\"https://www.reuters.com/world/us/biden-plans-new-steps-combat-us-gun-violence-violent-crime-climbs-2021-06-23/\", memoize_articles = False)"
   ]
  },
  {
   "cell_type": "code",
   "execution_count": 11,
   "id": "846e4a2b-15f9-444f-9a10-d20364c0e858",
   "metadata": {},
   "outputs": [],
   "source": [
    "article.download()"
   ]
  },
  {
   "cell_type": "code",
   "execution_count": 5,
   "id": "7a6e4e7e-c5c5-4dc8-9536-f100ebe042f0",
   "metadata": {},
   "outputs": [],
   "source": [
    "article.parse()"
   ]
  },
  {
   "cell_type": "code",
   "execution_count": 6,
   "id": "d6793acf-354c-430a-ac3d-8fa8bbc7d0d7",
   "metadata": {},
   "outputs": [
    {
     "data": {
      "text/plain": [
       "datetime.datetime(2021, 6, 23, 0, 0)"
      ]
     },
     "execution_count": 6,
     "metadata": {},
     "output_type": "execute_result"
    }
   ],
   "source": [
    "article.publish_date"
   ]
  },
  {
   "cell_type": "code",
   "execution_count": 12,
   "id": "743b54f6-14ff-4b78-b4c4-4dee8f1c1722",
   "metadata": {},
   "outputs": [
    {
     "data": {
      "text/plain": [
       "['Nandita Bose Steve Holland', 'Nandita Bose', 'Steve Holland']"
      ]
     },
     "execution_count": 12,
     "metadata": {},
     "output_type": "execute_result"
    }
   ],
   "source": [
    "article.authors"
   ]
  },
  {
   "cell_type": "code",
   "execution_count": 13,
   "id": "4aea81d2-de34-4730-80c4-9e4a410cdb9d",
   "metadata": {},
   "outputs": [
    {
     "data": {
      "text/plain": [
       "'U.S. President Joe Biden delivers remarks accompanied by U.S. Attorney General Merrick Garland, after a roundtable discussion with advisors on steps to curtail U.S. gun violence, at the White House in Washington, U.S. June 23, 2021. REUTERS/Jonathan Ernst\\n\\nWASHINGTON, June 23 (Reuters) - President Joe Biden pledged on Wednesday to go after illegal gun dealers and boost federal funding and support for local law enforcement as homicide rates have spiked in large cities.\\n\\n\"Merchants of death are breaking the law for profit,\" Biden said, adding the administration will have \"zero tolerance\" for rogue firearms dealers accountable for violating federal laws.\\n\\nHe said the government also will help states employ more police officers using funds already approved to help the economy recover from the COVID-19 pandemic.\\n\\n\"My message to you is this,\" Biden said, addressing gun dealers who \"willfully\" break the law. \"We will find you and we\\'ll seek your license to sell guns. We\\'ll make sure you can\\'t sell death and mayhem on our streets.\"\\n\\nThe administration will strengthen efforts by the Bureau of Alcohol, Tobacco, Firearms and Explosives (ATF) to stop illegal gun trafficking across states, Biden and Attorney General Merrick Garland said at the White House, reiterating steps the Department of Justice unveiled Tuesday.\\n\\nIn April, Biden signed executive orders asking the DOJ to crack down on self-assembled \"ghost guns.\" Such orders allow Biden to act quickly without waiting for Congress, where Democrats hold a razor-thin majority and Republicans generally oppose gun control legislation.\\n\\nGun rights, protected by the Second Amendment of the U.S. Constitution, are among the thorniest political issues in America, where the rate of gun deaths exceeds other wealthy countries.\\n\\nIn 2020 homicides in large U.S. cities rose 30% from a year earlier while gun assaults rose 8%with the fastest rate in big cities including Chicago and Houston, the White House said, citing a report by the nonpartisan research group the Council on Criminal Justice.\\n\\nOverall the national rate is still far below the national average in the 1970s or 1980s.\\n\\nProperty crimes, such as burglaries and larcenies, fell significantly in 2020.\\n\\nBefore speaking, Biden and Garland met with the mayors of Baltimore, Maryland and Rapid City, South Dakota, the police chief of Baton Rouge, Louisiana and other experts to discuss community safety measures.\\n\\nThe U.S. Treasury Department released information on how states and localities can tapthe $350 billion from the American Rescue Plan Act to respond to violent crime, including by investing in community policing.\\n\\nCRITICISM ON POLICE, GUNS\\n\\nThe administration faces growing impatience from gun-safety activists that want Bidento act more quickly to combat gun violence after he campaigned on a pledge to act against the \"epidemic\" on the first day of his administration.\\n\\nThis year, 20,989 Americans died of gun violence through June 23, more than half through suicide, according to the Gun Violence Archive, a research group.\\n\\nThe Republican Party issued a statement saying Biden\\'s Democratic administration \"should have stood up to Democrats\" who do not sufficiently support law enforcement.\\n\\nU.S. gun sales soared in 2020 during the coronavirus pandemic, amid social unrest over police killings of Black people and a contested presidential election. At the time, some experts warned a spike in homicides could be next.\\n\\n\"It\\'s pretty clear that more guns is more death,\" Harvard University professor David Hemenway, director of the school’s Injury Control Research Center, which studies injury prevention, told Reuters in October.\\n\\nWhile there is some \"preliminary evidence\" to support a connection between gun sales and homicides, \"more research is required,\" the Council on Criminal Justice report noted.\\n\\nReporting by Nandita Bose; Editing by Scott Malone and Michael Perry\\n\\nOur Standards: The Thomson Reuters Trust Principles.'"
      ]
     },
     "execution_count": 13,
     "metadata": {},
     "output_type": "execute_result"
    }
   ],
   "source": [
    "article.text"
   ]
  },
  {
   "cell_type": "code",
   "execution_count": 14,
   "id": "d6d106a3-9c78-413d-ae9e-e93f3e03d106",
   "metadata": {},
   "outputs": [
    {
     "data": {
      "text/plain": [
       "\"Biden to target 'merchants of death' who sell illegal guns, as U.S. homicides spike\""
      ]
     },
     "execution_count": 14,
     "metadata": {},
     "output_type": "execute_result"
    }
   ],
   "source": [
    "article.title"
   ]
  },
  {
   "cell_type": "code",
   "execution_count": 16,
   "id": "9aed3b17-baa6-47d4-b366-f851693516ac",
   "metadata": {},
   "outputs": [
    {
     "name": "stderr",
     "output_type": "stream",
     "text": [
      "[nltk_data] Downloading package punkt to\n",
      "[nltk_data]     /Users/taichikato/nltk_data...\n",
      "[nltk_data]   Unzipping tokenizers/punkt.zip.\n"
     ]
    },
    {
     "data": {
      "text/plain": [
       "True"
      ]
     },
     "execution_count": 16,
     "metadata": {},
     "output_type": "execute_result"
    }
   ],
   "source": [
    "import nltk\n",
    "nltk.download(\"punkt\")"
   ]
  },
  {
   "cell_type": "code",
   "execution_count": 17,
   "id": "76e4e446-db8e-4dc9-8fd4-5b15f1ebb774",
   "metadata": {},
   "outputs": [],
   "source": [
    "article.nlp()"
   ]
  },
  {
   "cell_type": "code",
   "execution_count": 18,
   "id": "4eb3ae77-1ef3-42e5-b5cb-8c2b94507290",
   "metadata": {},
   "outputs": [
    {
     "data": {
      "text/plain": [
       "['act',\n",
       " 'law',\n",
       " 'merchants',\n",
       " 'guns',\n",
       " 'support',\n",
       " 'white',\n",
       " 'target',\n",
       " 'research',\n",
       " 'death',\n",
       " 'spike',\n",
       " 'illegal',\n",
       " 'biden',\n",
       " 'sell',\n",
       " 'homicides',\n",
       " 'gun',\n",
       " 'violence',\n",
       " 'administration',\n",
       " 'states']"
      ]
     },
     "execution_count": 18,
     "metadata": {},
     "output_type": "execute_result"
    }
   ],
   "source": [
    "article.keywords"
   ]
  },
  {
   "cell_type": "code",
   "execution_count": 19,
   "id": "66e0018e-4912-40b0-9e38-3a8906cafb7d",
   "metadata": {},
   "outputs": [
    {
     "data": {
      "text/plain": [
       "'\"Merchants of death are breaking the law for profit,\" Biden said, adding the administration will have \"zero tolerance\" for rogue firearms dealers accountable for violating federal laws.\\n\"My message to you is this,\" Biden said, addressing gun dealers who \"willfully\" break the law.\\nIn April, Biden signed executive orders asking the DOJ to crack down on self-assembled \"ghost guns.\"\\nThis year, 20,989 Americans died of gun violence through June 23, more than half through suicide, according to the Gun Violence Archive, a research group.\\nThe Republican Party issued a statement saying Biden\\'s Democratic administration \"should have stood up to Democrats\" who do not sufficiently support law enforcement.'"
      ]
     },
     "execution_count": 19,
     "metadata": {},
     "output_type": "execute_result"
    }
   ],
   "source": [
    "article.summary"
   ]
  },
  {
   "cell_type": "code",
   "execution_count": 22,
   "id": "05b165ad-c065-4df8-938d-179dd8e4d98b",
   "metadata": {},
   "outputs": [
    {
     "data": {
      "text/plain": [
       "'\"Merchants of death are breaking the law for profit,\" Biden said, adding the administration will have \"zero tolerance\" for rogue firearms dealers accountable for violating federal laws.\"My message to you is this,\" Biden said, addressing gun dealers who \"willfully\" break the law.In April, Biden signed executive orders asking the DOJ to crack down on self-assembled \"ghost guns.\"This year, 20,989 Americans died of gun violence through June 23, more than half through suicide, according to the Gun Violence Archive, a research group.The Republican Party issued a statement saying Biden\\'s Democratic administration \"should have stood up to Democrats\" who do not sufficiently support law enforcement.'"
      ]
     },
     "execution_count": 22,
     "metadata": {},
     "output_type": "execute_result"
    }
   ],
   "source": [
    "article.summary.replace(\"\\n\",\"\")"
   ]
  },
  {
   "cell_type": "code",
   "execution_count": null,
   "id": "c48007ab-14a4-4b45-a449-df3df7301a2d",
   "metadata": {},
   "outputs": [],
   "source": []
  },
  {
   "cell_type": "code",
   "execution_count": null,
   "id": "86e3bb6c-eeb2-42c7-8b29-48c51145026c",
   "metadata": {},
   "outputs": [],
   "source": []
  },
  {
   "cell_type": "code",
   "execution_count": null,
   "id": "fdfbf67e-4de4-48bc-8d28-66deea5e7b3a",
   "metadata": {},
   "outputs": [],
   "source": []
  },
  {
   "cell_type": "code",
   "execution_count": null,
   "id": "ae40ee0e-de4a-41e0-be67-c0e5b062eaa0",
   "metadata": {},
   "outputs": [],
   "source": []
  },
  {
   "cell_type": "code",
   "execution_count": null,
   "id": "94d02b5a-4f7e-404f-a0a8-16d537503c46",
   "metadata": {},
   "outputs": [],
   "source": []
  },
  {
   "cell_type": "code",
   "execution_count": null,
   "id": "f28926f9-43ee-41e7-926a-9015c452621f",
   "metadata": {},
   "outputs": [],
   "source": []
  }
 ],
 "metadata": {
  "kernelspec": {
   "display_name": "Python 3",
   "language": "python",
   "name": "python3"
  },
  "language_info": {
   "codemirror_mode": {
    "name": "ipython",
    "version": 3
   },
   "file_extension": ".py",
   "mimetype": "text/x-python",
   "name": "python",
   "nbconvert_exporter": "python",
   "pygments_lexer": "ipython3",
   "version": "3.8.8"
  }
 },
 "nbformat": 4,
 "nbformat_minor": 5
}
